{
 "cells": [
  {
   "cell_type": "markdown",
   "metadata": {},
   "source": [
    "# Useful functions"
   ]
  },
  {
   "cell_type": "markdown",
   "metadata": {},
   "source": [
    "Create a program that asks the user for a number and then prints out a list of all the divisors of that number. \n",
    "(If you don’t know what a divisor is, it is a number that divides evenly into another number. For example, 13 is \n",
    "a divisor of 26 because 26 / 13 has no remainder.)"
   ]
  },
  {
   "cell_type": "code",
   "execution_count": 1,
   "metadata": {},
   "outputs": [
    {
     "name": "stdout",
     "output_type": "stream",
     "text": [
      "Indicate the number to calculate the divisors: 3\n",
      "[1]\n"
     ]
    }
   ],
   "source": [
    "def calculate_divisors(number):\n",
    "    lista = []\n",
    "    i = 1\n",
    "    while i < number:\n",
    "        if number % i == 0: \n",
    "            lista.append(i)\n",
    "        i+=1\n",
    "    print(lista)\n",
    "\n",
    "number = int(input(\"Indicate the number to calculate the divisors: \"))\n",
    "calculate_divisors(number)"
   ]
  },
  {
   "cell_type": "markdown",
   "metadata": {},
   "source": [
    "***"
   ]
  },
  {
   "cell_type": "markdown",
   "metadata": {},
   "source": [
    "Write a program that takes a list of numbers (for example, a = [5, 10, 15, 20, 25]) and makes a new list \n",
    "of only the first and last elements of the given list. For practice, write this code inside a function."
   ]
  },
  {
   "cell_type": "code",
   "execution_count": 2,
   "metadata": {},
   "outputs": [
    {
     "name": "stdout",
     "output_type": "stream",
     "text": [
      "[5, 25]\n"
     ]
    }
   ],
   "source": [
    "def list_ends(number_list):\n",
    "    result = [number_list.pop(0), number_list.pop(len(number_list)-1)]\n",
    "    print(result)\n",
    "\n",
    "\n",
    "a = [5, 10, 15, 20, 25]\n",
    "list_ends(a)"
   ]
  },
  {
   "cell_type": "markdown",
   "metadata": {},
   "source": [
    "***"
   ]
  },
  {
   "cell_type": "markdown",
   "metadata": {},
   "source": [
    "Take a list, say for example this one:\n",
    "\n",
    "  a = [1, 1, 2, 3, 5, 8, 13, 21, 34, 55, 89]\n",
    "and write a program that prints out all the elements of the list that are less than 5.\n",
    "\n",
    "Extras:\n",
    "\n",
    "- Instead of printing the elements one by one, make a new list that has all the elements less than 5 from this list in it and print out this new list.\n",
    "- Write this in one line of Python.\n",
    "- Ask the user for a number and return a list that contains only elements from the original list a that are smaller than that number given by the user."
   ]
  },
  {
   "cell_type": "code",
   "execution_count": 3,
   "metadata": {},
   "outputs": [
    {
     "name": "stdout",
     "output_type": "stream",
     "text": [
      "Indicate a number to get a the list with the numbers which are less than: 18\n",
      "[1, 1, 2, 3, 5, 8, 13]\n"
     ]
    }
   ],
   "source": [
    "def list_less_numbers(lista, number):\n",
    "    result = []\n",
    "    for x in lista:\n",
    "        if x < number:\n",
    "            result.append(x)\n",
    "    print(result)\n",
    "\n",
    "\n",
    "a = [1, 1, 2, 3, 5, 8, 13, 21, 34, 55, 89]\n",
    "number = int(input(\"Indicate a number to get a the list with the numbers which are less than: \"))\n",
    "list_less_numbers(a, number)"
   ]
  },
  {
   "cell_type": "markdown",
   "metadata": {},
   "source": [
    "***"
   ]
  },
  {
   "cell_type": "markdown",
   "metadata": {},
   "source": [
    "Take two lists, say for example these two:\n",
    "\n",
    "  a = [1, 1, 2, 3, 5, 8, 13, 21, 34, 55, 89]\n",
    "  b = [1, 2, 3, 4, 5, 6, 7, 8, 9, 10, 11, 12, 13]\n",
    "and write a program that returns a list that contains only the elements that are common between the lists (without duplicates). \n",
    "Make sure your program works on two lists of different sizes.\n",
    "\n",
    "Extras:\n",
    "\n",
    "- Randomly generate two lists to test this\n",
    "- Write this in one line of Python (don’t worry if you can’t figure this out at this point - we’ll get to it soon)\n"
   ]
  },
  {
   "cell_type": "code",
   "execution_count": 4,
   "metadata": {},
   "outputs": [
    {
     "name": "stdout",
     "output_type": "stream",
     "text": [
      "{10}\n"
     ]
    }
   ],
   "source": [
    "def calculate_commons(list1, list2):\n",
    "    set1, set2 = set(list1), set(list2)\n",
    "    print(set1.intersection(set2))\n",
    "\n",
    "import random\n",
    "\n",
    "a = [random.randrange(1, 50, 1) for i in range(10)]\n",
    "\n",
    "# a = [1, 1, 2, 3, 5, 8, 13, 21, 34, 55, 89]\n",
    "b = [1, 2, 3, 4, 5, 6, 7, 8, 9, 10, 11, 12, 13]\n",
    "\n",
    "calculate_commons(a, b)"
   ]
  },
  {
   "cell_type": "markdown",
   "metadata": {},
   "source": [
    "***"
   ]
  },
  {
   "cell_type": "markdown",
   "metadata": {},
   "source": [
    "Ask the user for a string and print out whether this string is a palindrome or not. (A palindrome is a string \n",
    "that reads the same forwards and backwards.)\n"
   ]
  },
  {
   "cell_type": "code",
   "execution_count": 5,
   "metadata": {},
   "outputs": [
    {
     "name": "stdout",
     "output_type": "stream",
     "text": [
      "Write a word to determine if is a palindrome: versionar\n",
      "Is a palindrome? False\n"
     ]
    }
   ],
   "source": [
    "def check_is_palindrome(element):\n",
    "    palindrome_element = element[::-1]\n",
    "    return element == palindrome_element\n",
    "\n",
    "element_to_check = input(\"Write a word to determine if is a palindrome: \")\n",
    "print(\"Is a palindrome? \" + str(check_is_palindrome(element_to_check)))"
   ]
  },
  {
   "cell_type": "markdown",
   "metadata": {},
   "source": [
    "***"
   ]
  },
  {
   "cell_type": "markdown",
   "metadata": {},
   "source": [
    "Let’s say I give you a list saved in a variable: a = [1, 4, 9, 16, 25, 36, 49, 64, 81, 100]. Write one line of Python that takes this list a and makes a new list that has only the even elements of this list in it."
   ]
  },
  {
   "cell_type": "code",
   "execution_count": 6,
   "metadata": {},
   "outputs": [
    {
     "name": "stdout",
     "output_type": "stream",
     "text": [
      "[4, 16, 36, 64, 100]\n"
     ]
    }
   ],
   "source": [
    "def get_even_numbers(lista):\n",
    "    result = []\n",
    "    for i in lista:\n",
    "        if i%2 == 0:\n",
    "            result.append(i)\n",
    "    print(result)\n",
    "    \n",
    "a = [1, 4, 9, 16, 25, 36, 49, 64, 81, 100]\n",
    "# b = [number for number in a if number % 2 == 0]\n",
    "get_even_numbers(a)"
   ]
  },
  {
   "cell_type": "markdown",
   "metadata": {},
   "source": [
    "***"
   ]
  },
  {
   "cell_type": "markdown",
   "metadata": {},
   "source": [
    "Generate a random number between 1 and 9 (including 1 and 9). Ask the user to guess the number, then tell \n",
    "them whether they guessed too low, too high, or exactly right. (Hint: remember to use the user input lessons \n",
    "from the very first exercise)\n",
    "\n",
    "Extras:\n",
    "\n",
    "- Keep the game going until the user types “exit”\n",
    "- Keep track of how many guesses the user has taken, and when the game ends, print this out."
   ]
  },
  {
   "cell_type": "code",
   "execution_count": 7,
   "metadata": {},
   "outputs": [
    {
     "name": "stdout",
     "output_type": "stream",
     "text": [
      "Guess the number: 3\n",
      "Too high!\n",
      "Guess the number: 1\n",
      "Congratulations! You get the number in the 2 try\n",
      "Playing again...\n",
      "\n",
      "\n",
      "Too low!\n",
      "Guess the number: exit\n",
      "Leaving game...\n"
     ]
    }
   ],
   "source": [
    "import random\n",
    "\n",
    "n = random.randint(1, 9)\n",
    "\n",
    "user_response = \"0\"\n",
    "retries = 0\n",
    "\n",
    "while user_response != \"exit\":\n",
    "    retries+=1\n",
    "    user_response = input(\"Guess the number: \")\n",
    "    if user_response != \"exit\":\n",
    "        if int(user_response) == n:\n",
    "            print(\"Congratulations! You get the number in the \" + str(retries) + \" try\")\n",
    "            retries = 0\n",
    "            n = random.randint(1, 9)\n",
    "            print(\"Playing again...\\n\\n\")\n",
    "        if int(user_response) < n:\n",
    "            print(\"Too low!\")\n",
    "        if int(user_response) > n:\n",
    "            print(\"Too high!\")\n",
    "    else:\n",
    "        print(\"Leaving game...\")"
   ]
  },
  {
   "cell_type": "markdown",
   "metadata": {},
   "source": [
    "***"
   ]
  },
  {
   "cell_type": "markdown",
   "metadata": {},
   "source": [
    "Write a program (using functions!) that asks the user for a long string containing multiple words. \n",
    "Print back to the user the same string, except with the words in backwards order. For example, say I \n",
    "type the string:\n",
    "\n",
    "  My name is Michele\n",
    "Then I would see the string:\n",
    "\n",
    "  Michele is name My\n",
    "shown back to me."
   ]
  },
  {
   "cell_type": "code",
   "execution_count": 8,
   "metadata": {},
   "outputs": [
    {
     "name": "stdout",
     "output_type": "stream",
     "text": [
      "Write the phrase to reverse:\n",
      "Esto es una locura\n",
      "locura una es Esto\n"
     ]
    }
   ],
   "source": [
    "def reverse_phrase(phrase):\n",
    "    splited_phrase = phrase.split(\" \")\n",
    "    reverse_list = splited_phrase[::-1]\n",
    "    result = \" \".join(reverse_list)\n",
    "    print(result)\n",
    "\n",
    "phrase = input(\"Write the phrase to reverse:\\n\")\n",
    "\n",
    "reverse_phrase(phrase)"
   ]
  },
  {
   "cell_type": "code",
   "execution_count": null,
   "metadata": {},
   "outputs": [],
   "source": []
  }
 ],
 "metadata": {
  "kernelspec": {
   "display_name": "Python 3",
   "language": "python",
   "name": "python3"
  },
  "language_info": {
   "codemirror_mode": {
    "name": "ipython",
    "version": 3
   },
   "file_extension": ".py",
   "mimetype": "text/x-python",
   "name": "python",
   "nbconvert_exporter": "python",
   "pygments_lexer": "ipython3",
   "version": "3.8.5"
  }
 },
 "nbformat": 4,
 "nbformat_minor": 4
}
